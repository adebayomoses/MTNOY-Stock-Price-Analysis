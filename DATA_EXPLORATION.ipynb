{
 "cells": [
  {
   "cell_type": "markdown",
   "id": "bbe8c4f6",
   "metadata": {},
   "source": [
    "## MTNOY STOCK PRICE ANALYSIS"
   ]
  },
  {
   "cell_type": "code",
   "execution_count": 9,
   "id": "2cdc8cba",
   "metadata": {},
   "outputs": [],
   "source": [
    "import requests\n",
    "import pandas as pd\n",
    "from config import settings\n",
    "import sqlite3\n",
    "import matplotlib.pyplot as plt\n",
    "import numpy as np\n",
    "import seaborn as sns\n",
    "from arch import arch_model\n",
    "from statsmodels.graphics.tsaplots import plot_acf, plot_pacf"
   ]
  },
  {
   "cell_type": "markdown",
   "id": "e56eb719",
   "metadata": {},
   "source": [
    "#### DATA EXPLORATION & WRANGLING"
   ]
  },
  {
   "cell_type": "code",
   "execution_count": 6,
   "id": "9df9ed9d",
   "metadata": {
    "scrolled": true
   },
   "outputs": [
    {
     "data": {
      "text/html": [
       "<div>\n",
       "<style scoped>\n",
       "    .dataframe tbody tr th:only-of-type {\n",
       "        vertical-align: middle;\n",
       "    }\n",
       "\n",
       "    .dataframe tbody tr th {\n",
       "        vertical-align: top;\n",
       "    }\n",
       "\n",
       "    .dataframe thead th {\n",
       "        text-align: right;\n",
       "    }\n",
       "</style>\n",
       "<table border=\"1\" class=\"dataframe\">\n",
       "  <thead>\n",
       "    <tr style=\"text-align: right;\">\n",
       "      <th></th>\n",
       "      <th>open</th>\n",
       "      <th>high</th>\n",
       "      <th>low</th>\n",
       "      <th>close</th>\n",
       "      <th>volume</th>\n",
       "    </tr>\n",
       "    <tr>\n",
       "      <th>date</th>\n",
       "      <th></th>\n",
       "      <th></th>\n",
       "      <th></th>\n",
       "      <th></th>\n",
       "      <th></th>\n",
       "    </tr>\n",
       "  </thead>\n",
       "  <tbody>\n",
       "    <tr>\n",
       "      <th>2007-07-13</th>\n",
       "      <td>14.80</td>\n",
       "      <td>14.80</td>\n",
       "      <td>14.7</td>\n",
       "      <td>14.80</td>\n",
       "      <td>2989.0</td>\n",
       "    </tr>\n",
       "    <tr>\n",
       "      <th>2007-07-16</th>\n",
       "      <td>14.95</td>\n",
       "      <td>14.95</td>\n",
       "      <td>14.6</td>\n",
       "      <td>14.95</td>\n",
       "      <td>3134.0</td>\n",
       "    </tr>\n",
       "    <tr>\n",
       "      <th>2007-07-17</th>\n",
       "      <td>14.58</td>\n",
       "      <td>14.80</td>\n",
       "      <td>14.5</td>\n",
       "      <td>14.58</td>\n",
       "      <td>29498.0</td>\n",
       "    </tr>\n",
       "    <tr>\n",
       "      <th>2007-07-18</th>\n",
       "      <td>14.70</td>\n",
       "      <td>14.70</td>\n",
       "      <td>14.7</td>\n",
       "      <td>14.70</td>\n",
       "      <td>1671.0</td>\n",
       "    </tr>\n",
       "    <tr>\n",
       "      <th>2007-07-19</th>\n",
       "      <td>15.05</td>\n",
       "      <td>15.05</td>\n",
       "      <td>15.0</td>\n",
       "      <td>15.05</td>\n",
       "      <td>9036.0</td>\n",
       "    </tr>\n",
       "  </tbody>\n",
       "</table>\n",
       "</div>"
      ],
      "text/plain": [
       "             open   high   low  close   volume\n",
       "date                                          \n",
       "2007-07-13  14.80  14.80  14.7  14.80   2989.0\n",
       "2007-07-16  14.95  14.95  14.6  14.95   3134.0\n",
       "2007-07-17  14.58  14.80  14.5  14.58  29498.0\n",
       "2007-07-18  14.70  14.70  14.7  14.70   1671.0\n",
       "2007-07-19  15.05  15.05  15.0  15.05   9036.0"
      ]
     },
     "execution_count": 6,
     "metadata": {},
     "output_type": "execute_result"
    }
   ],
   "source": [
    "#loading the dataset\n",
    "\n",
    "df = pd.read_csv(\"mtnoy_dataset.csv\").set_index(\"date\")\n",
    "df.index = pd.to_datetime(df.index)\n",
    "df= df.sort_index(ascending=True)\n",
    "df.head()"
   ]
  },
  {
   "cell_type": "code",
   "execution_count": 12,
   "id": "74a6c334",
   "metadata": {},
   "outputs": [
    {
     "data": {
      "image/png": "[encoded data removed]",
      "text/plain": [
       "<Figure size 640x480 with 1 Axes>"
      ]
     },
     "metadata": {},
     "output_type": "display_data"
    }
   ],
   "source": [
    "sns.boxplot(x=df[\"close\"])\n",
    "plt.xlabel(\"Price\");"
   ]
  },
  {
   "cell_type": "code",
   "execution_count": 4,
   "id": "8a03765b",
   "metadata": {},
   "outputs": [],
   "source": [
    "# creating the returns columns\n",
    "\n",
    "df[\"returns\"] = df[\"close\"].pct_change() * 100\n",
    "df_mtnoy_return = df[\"returns\"].dropna()"
   ]
  },
  {
   "cell_type": "code",
   "execution_count": 5,
   "id": "5ac43a7a",
   "metadata": {},
   "outputs": [
    {
     "name": "stdout",
     "output_type": "stream",
     "text": [
      "<class 'pandas.core.frame.DataFrame'>\n",
      "DatetimeIndex: 4144 entries, 2007-07-13 to 2023-12-27\n",
      "Data columns (total 6 columns):\n",
      " #   Column   Non-Null Count  Dtype  \n",
      "---  ------   --------------  -----  \n",
      " 0   open     4144 non-null   float64\n",
      " 1   high     4144 non-null   float64\n",
      " 2   low      4144 non-null   float64\n",
      " 3   close    4144 non-null   float64\n",
      " 4   volume   4144 non-null   float64\n",
      " 5   returns  4143 non-null   float64\n",
      "dtypes: float64(6)\n",
      "memory usage: 226.6 KB\n"
     ]
    }
   ],
   "source": [
    "df.info()"
   ]
  },
  {
   "cell_type": "code",
   "execution_count": 6,
   "id": "44ad6884",
   "metadata": {},
   "outputs": [
    {
     "data": {
      "text/plain": [
       "date\n",
       "2007-07-16    1.013514\n",
       "2007-07-17   -2.474916\n",
       "2007-07-18    0.823045\n",
       "2007-07-19    2.380952\n",
       "2007-07-20    0.996678\n",
       "Name: returns, dtype: float64"
      ]
     },
     "execution_count": 6,
     "metadata": {},
     "output_type": "execute_result"
    }
   ],
   "source": [
    "df_mtnoy_return.head()"
   ]
  },
  {
   "cell_type": "code",
   "execution_count": 7,
   "id": "7300f8f0",
   "metadata": {},
   "outputs": [
    {
     "name": "stdout",
     "output_type": "stream",
     "text": [
      "Daily volatility 3.050402599040862\n",
      "Annual volatility 48.42364005412317\n"
     ]
    }
   ],
   "source": [
    "# DAily and year volatility\n",
    "\n",
    "mtnoy_daily_volatility = df_mtnoy_return.std()\n",
    "mtnoy_annual_volatility = mtnoy_daily_volatility*np.sqrt(252)\n",
    "\n",
    "print(\"Daily volatility\",mtnoy_daily_volatility)\n",
    "print(\"Annual volatility\",mtnoy_annual_volatility)"
   ]
  },
  {
   "cell_type": "code",
   "execution_count": 8,
   "id": "a0ee0d24",
   "metadata": {},
   "outputs": [
    {
     "data": {
      "text/plain": [
       "date\n",
       "2007-09-24    3.358822\n",
       "2007-09-25    3.359852\n",
       "2007-09-26    3.341729\n",
       "2007-09-27    3.363776\n",
       "2007-09-28    3.350762\n",
       "                ...   \n",
       "2023-12-20    2.749867\n",
       "2023-12-21    2.752651\n",
       "2023-12-22    2.710248\n",
       "2023-12-26    2.703339\n",
       "2023-12-27    2.702969\n",
       "Name: returns, Length: 4094, dtype: float64"
      ]
     },
     "execution_count": 8,
     "metadata": {},
     "output_type": "execute_result"
    }
   ],
   "source": [
    "# mtnoy_50days_volatility\n",
    "\n",
    "mtnoy_50days_volatility = df_mtnoy_return.rolling(window=50).std().dropna()\n",
    "mtnoy_50days_volatility"
   ]
  },
  {
   "cell_type": "code",
   "execution_count": null,
   "id": "dc296087",
   "metadata": {},
   "outputs": [],
   "source": []
  }
 ],
 "metadata": {
  "kernelspec": {
   "display_name": "Python 3 (ipykernel)",
   "language": "python",
   "name": "python3"
  },
  "language_info": {
   "codemirror_mode": {
    "name": "ipython",
    "version": 3
   },
   "file_extension": ".py",
   "mimetype": "text/x-python",
   "name": "python",
   "nbconvert_exporter": "python",
   "pygments_lexer": "ipython3",
   "version": "3.11.5"
  }
 },
 "nbformat": 4,
 "nbformat_minor": 5
}
