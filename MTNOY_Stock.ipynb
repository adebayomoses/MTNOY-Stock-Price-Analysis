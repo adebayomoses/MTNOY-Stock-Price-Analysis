{
 "cells": [
  {
   "cell_type": "markdown",
   "id": "3e2e740c",
   "metadata": {},
   "source": [
    "## MTNOY STOCK PRICE ANALYSIS"
   ]
  },
  {
   "cell_type": "code",
   "execution_count": 9,
   "id": "2e9fcef7",
   "metadata": {},
   "outputs": [],
   "source": [
    "import requests\n",
    "import pandas as pd\n",
    "from config import settings\n",
    "import sqlite3"
   ]
  },
  {
   "cell_type": "code",
   "execution_count": null,
   "id": "b93e5142",
   "metadata": {},
   "outputs": [],
   "source": []
  },
  {
   "cell_type": "markdown",
   "id": "81bc53d2",
   "metadata": {},
   "source": [
    "#### API EXPLORATION TO EXTRACT THE DATA"
   ]
  },
  {
   "cell_type": "code",
   "execution_count": 10,
   "id": "f92c4711",
   "metadata": {},
   "outputs": [
    {
     "name": "stdout",
     "output_type": "stream",
     "text": [
      "https://learn-api.wqu.edu/1/data-services/alpha-vantage/query?function=TIME_SERIES_DAILY&symbol=MTNOY&outputsize=full&datatype=json&apikey=9f6f20dcb464ccb1684848b91cf1d9dca95f684ec5e5020327dd34b0295a2906e24213edb9ce6c64a6ac0d7738dbe8bd54ced07f6e3e77d6b37f9af43ab941e70fbe9696c11fc358aeda7e78aee795889aa900925fafe1627daff8ab02b487821c595e392aa03765a9d81091003c05be97f1f9472edbbe7bd63ea4e7443fa0ec\n"
     ]
    }
   ],
   "source": [
    "ticker_symbol = \"MTNOY\"\n",
    "output_size = \"full\"\n",
    "data_type = \"json\"\n",
    "\n",
    "url = (\"https://learn-api.wqu.edu/1/data-services/alpha-vantage/query?\"\n",
    "       \"function=TIME_SERIES_DAILY&\"\n",
    "       f\"symbol={ticker}&\"\n",
    "       f\"outputsize={output_size}&\"\n",
    "       f\"datatype={data_type}&\"\n",
    "       f\"apikey={settings.alpha_api_key}\")\n",
    "\n",
    "print(url)"
   ]
  },
  {
   "cell_type": "code",
   "execution_count": 17,
   "id": "2980653c",
   "metadata": {},
   "outputs": [
    {
     "name": "stdout",
     "output_type": "stream",
     "text": [
      "<class 'dict'>\n",
      "200\n",
      "dict_keys(['Meta Data', 'Time Series (Daily)'])\n"
     ]
    }
   ],
   "source": [
    "# get the response\n",
    "response = requests.get(url=url)\n",
    "\n",
    "# response json\n",
    "response_data = response.json()\n",
    "\n",
    "# response keys\n",
    "keys = response_data.keys()\n",
    "\n",
    "#print\n",
    "print(type(response_data))\n",
    "print(response.status_code)\n",
    "print(keys)\n",
    "# dir(response)"
   ]
  },
  {
   "cell_type": "code",
   "execution_count": 28,
   "id": "592f67bf",
   "metadata": {},
   "outputs": [
    {
     "data": {
      "text/plain": [
       "{'1. open': '6.2700',\n",
       " '2. high': '6.4000',\n",
       " '3. low': '6.2600',\n",
       " '4. close': '6.4000',\n",
       " '5. volume': '22036'}"
      ]
     },
     "execution_count": 28,
     "metadata": {},
     "output_type": "execute_result"
    }
   ],
   "source": [
    "# # Extract `\"Time Series (Daily)\"` value from `response_data`\n",
    "\n",
    "mtnoy_data = response_data[\"Time Series (Daily)\"]\n",
    "\n",
    "mtnoy_data[\"2023-12-27\"]"
   ]
  },
  {
   "cell_type": "code",
   "execution_count": 38,
   "id": "2c18c6ef",
   "metadata": {},
   "outputs": [
    {
     "name": "stdout",
     "output_type": "stream",
     "text": [
      "<class 'pandas.core.frame.DataFrame'>\n",
      "DatetimeIndex: 4144 entries, 2023-12-27 to 2007-07-13\n",
      "Data columns (total 5 columns):\n",
      " #   Column  Non-Null Count  Dtype  \n",
      "---  ------  --------------  -----  \n",
      " 0   open    4144 non-null   float64\n",
      " 1   high    4144 non-null   float64\n",
      " 2   low     4144 non-null   float64\n",
      " 3   close   4144 non-null   float64\n",
      " 4   volume  4144 non-null   float64\n",
      "dtypes: float64(5)\n",
      "memory usage: 194.2 KB\n",
      "None\n"
     ]
    },
    {
     "data": {
      "text/html": [
       "<div>\n",
       "<style scoped>\n",
       "    .dataframe tbody tr th:only-of-type {\n",
       "        vertical-align: middle;\n",
       "    }\n",
       "\n",
       "    .dataframe tbody tr th {\n",
       "        vertical-align: top;\n",
       "    }\n",
       "\n",
       "    .dataframe thead th {\n",
       "        text-align: right;\n",
       "    }\n",
       "</style>\n",
       "<table border=\"1\" class=\"dataframe\">\n",
       "  <thead>\n",
       "    <tr style=\"text-align: right;\">\n",
       "      <th></th>\n",
       "      <th>open</th>\n",
       "      <th>high</th>\n",
       "      <th>low</th>\n",
       "      <th>close</th>\n",
       "      <th>volume</th>\n",
       "    </tr>\n",
       "    <tr>\n",
       "      <th>date</th>\n",
       "      <th></th>\n",
       "      <th></th>\n",
       "      <th></th>\n",
       "      <th></th>\n",
       "      <th></th>\n",
       "    </tr>\n",
       "  </thead>\n",
       "  <tbody>\n",
       "    <tr>\n",
       "      <th>2023-12-27</th>\n",
       "      <td>6.27</td>\n",
       "      <td>6.40</td>\n",
       "      <td>6.26</td>\n",
       "      <td>6.400</td>\n",
       "      <td>22036.0</td>\n",
       "    </tr>\n",
       "    <tr>\n",
       "      <th>2023-12-26</th>\n",
       "      <td>6.10</td>\n",
       "      <td>6.27</td>\n",
       "      <td>5.97</td>\n",
       "      <td>6.192</td>\n",
       "      <td>19176.0</td>\n",
       "    </tr>\n",
       "    <tr>\n",
       "      <th>2023-12-22</th>\n",
       "      <td>6.21</td>\n",
       "      <td>6.28</td>\n",
       "      <td>6.15</td>\n",
       "      <td>6.150</td>\n",
       "      <td>6902.0</td>\n",
       "    </tr>\n",
       "    <tr>\n",
       "      <th>2023-12-21</th>\n",
       "      <td>6.17</td>\n",
       "      <td>6.21</td>\n",
       "      <td>6.17</td>\n",
       "      <td>6.210</td>\n",
       "      <td>255083.0</td>\n",
       "    </tr>\n",
       "    <tr>\n",
       "      <th>2023-12-20</th>\n",
       "      <td>6.01</td>\n",
       "      <td>6.15</td>\n",
       "      <td>6.01</td>\n",
       "      <td>6.105</td>\n",
       "      <td>30943.0</td>\n",
       "    </tr>\n",
       "  </tbody>\n",
       "</table>\n",
       "</div>"
      ],
      "text/plain": [
       "            open  high   low  close    volume\n",
       "date                                         \n",
       "2023-12-27  6.27  6.40  6.26  6.400   22036.0\n",
       "2023-12-26  6.10  6.27  5.97  6.192   19176.0\n",
       "2023-12-22  6.21  6.28  6.15  6.150    6902.0\n",
       "2023-12-21  6.17  6.21  6.17  6.210  255083.0\n",
       "2023-12-20  6.01  6.15  6.01  6.105   30943.0"
      ]
     },
     "execution_count": 38,
     "metadata": {},
     "output_type": "execute_result"
    }
   ],
   "source": [
    "# Store in a DataFrame\n",
    "\n",
    "df_mtnoy = pd.DataFrame().from_dict(mtnoy_data, orient=\"index\", dtype=float)\n",
    "\n",
    "df_mtnoy.index = pd.to_datetime(df_mtnoy.index)\n",
    "\n",
    "# Name index \"date\"\n",
    "df_mtnoy.index.name=\"date\"\n",
    "\n",
    "# Using list comprehension to rename the columns\n",
    "df_mtnoy.columns = [c.split(\". \")[1] for c in df_mtnoy.columns]\n",
    "\n",
    "\n",
    "print(df_mtnoy.info())\n",
    "df_mtnoy.head()"
   ]
  },
  {
   "cell_type": "markdown",
   "id": "b21f1887",
   "metadata": {},
   "source": [
    "#### DATA EXPLORATION"
   ]
  },
  {
   "cell_type": "code",
   "execution_count": null,
   "id": "f271b457",
   "metadata": {},
   "outputs": [],
   "source": []
  }
 ],
 "metadata": {
  "kernelspec": {
   "display_name": "Python 3 (ipykernel)",
   "language": "python",
   "name": "python3"
  },
  "language_info": {
   "codemirror_mode": {
    "name": "ipython",
    "version": 3
   },
   "file_extension": ".py",
   "mimetype": "text/x-python",
   "name": "python",
   "nbconvert_exporter": "python",
   "pygments_lexer": "ipython3",
   "version": "3.11.5"
  }
 },
 "nbformat": 4,
 "nbformat_minor": 5
}
