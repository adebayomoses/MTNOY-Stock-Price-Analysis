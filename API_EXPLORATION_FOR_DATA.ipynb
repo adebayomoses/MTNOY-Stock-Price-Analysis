{
 "cells": [
  {
   "cell_type": "markdown",
   "id": "bbe8c4f6",
   "metadata": {},
   "source": [
    "## MTNOY STOCK PRICE ANALYSIS"
   ]
  },
  {
   "cell_type": "markdown",
   "id": "5422b498",
   "metadata": {},
   "source": [
    "AIM:\n",
    "\n",
    "    Explore the stock price performance of MTNOY.\n",
    "\n",
    "    Build a model to predict stock volatility for the telecommunications company MTN Group."
   ]
  },
  {
   "cell_type": "markdown",
   "id": "df8cd9a0",
   "metadata": {},
   "source": [
    "### Import the libraries"
   ]
  },
  {
   "cell_type": "code",
   "execution_count": 30,
   "id": "2cdc8cba",
   "metadata": {},
   "outputs": [],
   "source": [
    "# Import the libraries\n",
    "\n",
    "import requests\n",
    "import pandas as pd\n",
    "from config import settings\n",
    "import sqlite3\n",
    "import matplotlib.pyplot as plt\n",
    "import numpy as np\n",
    "from arch import arch_model\n",
    "from statsmodels.graphics.tsaplots import plot_acf, plot_pacf"
   ]
  },
  {
   "cell_type": "markdown",
   "id": "ed70d40a",
   "metadata": {},
   "source": [
    "#### API EXPLORATION TO EXTRACT THE DATA"
   ]
  },
  {
   "cell_type": "code",
   "execution_count": 62,
   "id": "d6526cfa",
   "metadata": {},
   "outputs": [
    {
     "name": "stdout",
     "output_type": "stream",
     "text": [
      "https://learn-api.wqu.edu/1/data-services/alpha-vantage/query?function=TIME_SERIES_DAILY&symbol=MTNOY&outputsize=full&datatype=json&apikey=9f6f20dcb464ccb1684848b91cf1d9d\n"
     ]
    }
   ],
   "source": [
    "ticker_symbol = \"MTNOY\"\n",
    "output_size = \"full\"\n",
    "data_type = \"json\"\n",
    "\n",
    "url = (\"https://learn-api.wqu.edu/1/data-services/alpha-vantage/query?\"\n",
    "       \"function=TIME_SERIES_DAILY&\"\n",
    "       f\"symbol={ticker_symbol}&\"\n",
    "       f\"outputsize={output_size}&\"\n",
    "       f\"datatype={data_type}&\"\n",
    "       f\"apikey={settings.alpha_api_key}\")\n",
    "\n",
    "print(url[:170])\n",
    "\n"
   ]
  },
  {
   "cell_type": "code",
   "execution_count": 63,
   "id": "4535aefb",
   "metadata": {},
   "outputs": [
    {
     "name": "stdout",
     "output_type": "stream",
     "text": [
      "<class 'dict'>\n",
      "200\n",
      "dict_keys(['Meta Data', 'Time Series (Daily)'])\n"
     ]
    }
   ],
   "source": [
    "# get the response\n",
    "response = requests.get(url=url)\n",
    "\n",
    "# response json\n",
    "response_data = response.json()\n",
    "\n",
    "# response keys\n",
    "keys = response_data.keys()\n",
    "\n",
    "#print\n",
    "print(type(response_data))\n",
    "print(response.status_code)\n",
    "print(keys)\n",
    "# dir(response)"
   ]
  },
  {
   "cell_type": "code",
   "execution_count": 64,
   "id": "df732f9f",
   "metadata": {},
   "outputs": [
    {
     "data": {
      "text/plain": [
       "{'1. open': '6.2700',\n",
       " '2. high': '6.4000',\n",
       " '3. low': '6.2600',\n",
       " '4. close': '6.4000',\n",
       " '5. volume': '22036'}"
      ]
     },
     "execution_count": 64,
     "metadata": {},
     "output_type": "execute_result"
    }
   ],
   "source": [
    "# # Extract `\"Time Series (Daily)\"` value from `response_data`\n",
    "\n",
    "mtnoy_data = response_data[\"Time Series (Daily)\"]\n",
    "\n",
    "mtnoy_data[\"2023-12-27\"]"
   ]
  },
  {
   "cell_type": "code",
   "execution_count": 65,
   "id": "172085e4",
   "metadata": {
    "scrolled": true
   },
   "outputs": [
    {
     "name": "stdout",
     "output_type": "stream",
     "text": [
      "<class 'pandas.core.frame.DataFrame'>\n",
      "DatetimeIndex: 4146 entries, 2023-12-29 to 2007-07-13\n",
      "Data columns (total 5 columns):\n",
      " #   Column  Non-Null Count  Dtype  \n",
      "---  ------  --------------  -----  \n",
      " 0   open    4146 non-null   float64\n",
      " 1   high    4146 non-null   float64\n",
      " 2   low     4146 non-null   float64\n",
      " 3   close   4146 non-null   float64\n",
      " 4   volume  4146 non-null   float64\n",
      "dtypes: float64(5)\n",
      "memory usage: 194.3 KB\n",
      "None\n"
     ]
    },
    {
     "data": {
      "text/html": [
       "<div>\n",
       "<style scoped>\n",
       "    .dataframe tbody tr th:only-of-type {\n",
       "        vertical-align: middle;\n",
       "    }\n",
       "\n",
       "    .dataframe tbody tr th {\n",
       "        vertical-align: top;\n",
       "    }\n",
       "\n",
       "    .dataframe thead th {\n",
       "        text-align: right;\n",
       "    }\n",
       "</style>\n",
       "<table border=\"1\" class=\"dataframe\">\n",
       "  <thead>\n",
       "    <tr style=\"text-align: right;\">\n",
       "      <th></th>\n",
       "      <th>open</th>\n",
       "      <th>high</th>\n",
       "      <th>low</th>\n",
       "      <th>close</th>\n",
       "      <th>volume</th>\n",
       "    </tr>\n",
       "    <tr>\n",
       "      <th>date</th>\n",
       "      <th></th>\n",
       "      <th></th>\n",
       "      <th></th>\n",
       "      <th></th>\n",
       "      <th></th>\n",
       "    </tr>\n",
       "  </thead>\n",
       "  <tbody>\n",
       "    <tr>\n",
       "      <th>2023-12-29</th>\n",
       "      <td>6.370</td>\n",
       "      <td>6.3825</td>\n",
       "      <td>6.3055</td>\n",
       "      <td>6.3055</td>\n",
       "      <td>21286.0</td>\n",
       "    </tr>\n",
       "    <tr>\n",
       "      <th>2023-12-28</th>\n",
       "      <td>6.155</td>\n",
       "      <td>6.2340</td>\n",
       "      <td>6.1200</td>\n",
       "      <td>6.1200</td>\n",
       "      <td>23212.0</td>\n",
       "    </tr>\n",
       "    <tr>\n",
       "      <th>2023-12-27</th>\n",
       "      <td>6.270</td>\n",
       "      <td>6.4000</td>\n",
       "      <td>6.2600</td>\n",
       "      <td>6.4000</td>\n",
       "      <td>22036.0</td>\n",
       "    </tr>\n",
       "    <tr>\n",
       "      <th>2023-12-26</th>\n",
       "      <td>6.100</td>\n",
       "      <td>6.2700</td>\n",
       "      <td>5.9700</td>\n",
       "      <td>6.1920</td>\n",
       "      <td>19176.0</td>\n",
       "    </tr>\n",
       "    <tr>\n",
       "      <th>2023-12-22</th>\n",
       "      <td>6.210</td>\n",
       "      <td>6.2800</td>\n",
       "      <td>6.1500</td>\n",
       "      <td>6.1500</td>\n",
       "      <td>6902.0</td>\n",
       "    </tr>\n",
       "  </tbody>\n",
       "</table>\n",
       "</div>"
      ],
      "text/plain": [
       "             open    high     low   close   volume\n",
       "date                                              \n",
       "2023-12-29  6.370  6.3825  6.3055  6.3055  21286.0\n",
       "2023-12-28  6.155  6.2340  6.1200  6.1200  23212.0\n",
       "2023-12-27  6.270  6.4000  6.2600  6.4000  22036.0\n",
       "2023-12-26  6.100  6.2700  5.9700  6.1920  19176.0\n",
       "2023-12-22  6.210  6.2800  6.1500  6.1500   6902.0"
      ]
     },
     "execution_count": 65,
     "metadata": {},
     "output_type": "execute_result"
    }
   ],
   "source": [
    "# Store in a DataFrame\n",
    "\n",
    "df_mtnoy = pd.DataFrame().from_dict(mtnoy_data, orient=\"index\", dtype=float)\n",
    "\n",
    "df_mtnoy.index = pd.to_datetime(df_mtnoy.index)\n",
    "\n",
    "# Name index \"date\"\n",
    "df_mtnoy.index.name=\"date\"\n",
    "\n",
    "# Using list comprehension to rename the columns\n",
    "df_mtnoy.columns = [c.split(\". \")[1] for c in df_mtnoy.columns]\n",
    "\n",
    "\n",
    "print(df_mtnoy.info())\n",
    "df_mtnoy.head()"
   ]
  },
  {
   "cell_type": "code",
   "execution_count": 66,
   "id": "a3c714f7",
   "metadata": {},
   "outputs": [],
   "source": [
    "df_mtnoy.to_csv(\"MTNOY_dataset.csv\")"
   ]
  },
  {
   "cell_type": "code",
   "execution_count": null,
   "id": "b686443c",
   "metadata": {},
   "outputs": [],
   "source": []
  }
 ],
 "metadata": {
  "kernelspec": {
   "display_name": "Python 3 (ipykernel)",
   "language": "python",
   "name": "python3"
  },
  "language_info": {
   "codemirror_mode": {
    "name": "ipython",
    "version": 3
   },
   "file_extension": ".py",
   "mimetype": "text/x-python",
   "name": "python",
   "nbconvert_exporter": "python",
   "pygments_lexer": "ipython3",
   "version": "3.11.5"
  }
 },
 "nbformat": 4,
 "nbformat_minor": 5
}
